{
 "cells": [
  {
   "cell_type": "markdown",
   "id": "7110e1b5",
   "metadata": {},
   "source": [
    "# 📊 ShadowFox Advanced Task 2 – Business Insights from Transactions\n",
    "\n",
    "## Objective:\n",
    "To analyze a real-world transaction dataset and derive business insights related to customer spending behavior, transaction timing, and merchant activity.\n",
    "\n",
    "We'll use Python and visualization libraries to explore key patterns that support strategic financial decisions.\n",
    "\n",
    "---"
   ]
  },
  {
   "cell_type": "code",
   "execution_count": null,
   "id": "cdad09ed",
   "metadata": {},
   "outputs": [],
   "source": [
    "import pandas as pd\n",
    "import numpy as np\n",
    "import matplotlib.pyplot as plt\n",
    "import seaborn as sns\n",
    "\n",
    "sns.set(style=\"whitegrid\")"
   ]
  },
  {
   "cell_type": "code",
   "execution_count": null,
   "id": "48d53807",
   "metadata": {},
   "outputs": [],
   "source": [
    "from google.colab import drive\n",
    "drive.mount('/content/drive')"
   ]
  },
  {
   "cell_type": "code",
   "execution_count": null,
   "id": "2777e6ff",
   "metadata": {},
   "outputs": [],
   "source": [
    "# Update this path to where your CSV file is stored in your Google Drive\n",
    "file_path = '/content/drive/MyDrive/ShadowFox/transactions_dataset.csv'\n",
    "\n",
    "df = pd.read_csv(file_path)"
   ]
  },
  {
   "cell_type": "code",
   "execution_count": null,
   "id": "eb548a6c",
   "metadata": {},
   "outputs": [],
   "source": [
    "df.head()"
   ]
  },
  {
   "cell_type": "code",
   "execution_count": null,
   "id": "1fccaf66",
   "metadata": {},
   "outputs": [],
   "source": [
    "df.info()"
   ]
  },
  {
   "cell_type": "code",
   "execution_count": null,
   "id": "90b8f251",
   "metadata": {},
   "outputs": [],
   "source": [
    "df.describe()"
   ]
  },
  {
   "cell_type": "code",
   "execution_count": null,
   "id": "1979d0f4",
   "metadata": {},
   "outputs": [],
   "source": [
    "df.columns"
   ]
  },
  {
   "cell_type": "code",
   "execution_count": null,
   "id": "948b8ea9",
   "metadata": {},
   "outputs": [],
   "source": [
    "# Convert 'date' column to datetime (if not already)\n",
    "df['date'] = pd.to_datetime(df['date'])\n",
    "\n",
    "# Remove duplicate rows if any\n",
    "df.drop_duplicates(inplace=True)\n",
    "\n",
    "# Check for missing values\n",
    "print(df.isnull().sum())"
   ]
  },
  {
   "cell_type": "code",
   "execution_count": null,
   "id": "b670237b",
   "metadata": {},
   "outputs": [],
   "source": [
    "# Top Merchant Categories (MCC codes)\n",
    "top_categories = df['mcc'].value_counts().head(10)\n",
    "\n",
    "plt.figure(figsize=(10,5))\n",
    "sns.barplot(x=top_categories.index.astype(str), y=top_categories.values, palette=\"viridis\")\n",
    "plt.title(\"Top 10 Merchant Categories by Transaction Count\")\n",
    "plt.xlabel(\"MCC Code\")\n",
    "plt.ylabel(\"Number of Transactions\")\n",
    "plt.show()"
   ]
  },
  {
   "cell_type": "code",
   "execution_count": null,
   "id": "8b77aa15",
   "metadata": {},
   "outputs": [],
   "source": [
    "# Top Merchant Cities\n",
    "top_cities = df['merchant_city'].value_counts().head(10)\n",
    "\n",
    "plt.figure(figsize=(10,5))\n",
    "sns.barplot(x=top_cities.index, y=top_cities.values, palette=\"magma\")\n",
    "plt.title(\"Top 10 Merchant Cities by Transaction Count\")\n",
    "plt.xlabel(\"City\")\n",
    "plt.ylabel(\"Number of Transactions\")\n",
    "plt.xticks(rotation=45)\n",
    "plt.show()"
   ]
  },
  {
   "cell_type": "code",
   "execution_count": null,
   "id": "208d3bd3",
   "metadata": {},
   "outputs": [],
   "source": [
    "# Transaction Amount Distribution\n",
    "plt.figure(figsize=(8,5))\n",
    "sns.histplot(df['amount'], bins=100, kde=True)\n",
    "plt.title(\"Transaction Amount Distribution\")\n",
    "plt.xlabel(\"Amount\")\n",
    "plt.ylabel(\"Frequency\")\n",
    "plt.xlim(0, 500)\n",
    "plt.show()"
   ]
  },
  {
   "cell_type": "code",
   "execution_count": null,
   "id": "c97a8c77",
   "metadata": {},
   "outputs": [],
   "source": [
    "# Transactions by Hour\n",
    "plt.figure(figsize=(10,5))\n",
    "sns.countplot(x='hour', data=df, palette='coolwarm')\n",
    "plt.title('Transactions by Hour of Day')\n",
    "plt.xlabel('Hour')\n",
    "plt.ylabel('Transaction Count')\n",
    "plt.show()"
   ]
  },
  {
   "cell_type": "code",
   "execution_count": null,
   "id": "85b9dba5",
   "metadata": {},
   "outputs": [],
   "source": [
    "# Transactions by Day of Month\n",
    "plt.figure(figsize=(10,5))\n",
    "sns.countplot(x='day', data=df, palette='crest')\n",
    "plt.title('Transactions by Day of Month')\n",
    "plt.xlabel('Day')\n",
    "plt.ylabel('Transaction Count')\n",
    "plt.show()"
   ]
  },
  {
   "cell_type": "code",
   "execution_count": null,
   "id": "d2a8f202",
   "metadata": {},
   "outputs": [],
   "source": [
    "# Transactions by Month\n",
    "plt.figure(figsize=(10,5))\n",
    "sns.countplot(x='month', data=df, palette='flare')\n",
    "plt.title('Transactions by Month')\n",
    "plt.xlabel('Month')\n",
    "plt.ylabel('Transaction Count')\n",
    "plt.show()"
   ]
  },
  {
   "cell_type": "code",
   "execution_count": null,
   "id": "b2687e77",
   "metadata": {},
   "outputs": [],
   "source": [
    "# Chip vs Non-Chip Transactions\n",
    "chip_counts = df['use_chip'].value_counts()\n",
    "\n",
    "plt.figure(figsize=(6,4))\n",
    "sns.barplot(x=chip_counts.index.astype(str), y=chip_counts.values, palette='Set2')\n",
    "plt.title('Chip vs Non-Chip Transactions')\n",
    "plt.xlabel('Use Chip')\n",
    "plt.ylabel('Number of Transactions')\n",
    "plt.xticks([0, 1], ['No', 'Yes'])\n",
    "plt.show()"
   ]
  },
  {
   "cell_type": "markdown",
   "id": "98b9662e",
   "metadata": {},
   "source": [
    "## 🧠 Insights & Business Recommendations\n",
    "\n",
    "- Most transactions are concentrated in a few **merchant categories (MCC codes)**, indicating focus areas for business growth and marketing.\n",
    "- Transactions predominantly occur in certain **urban cities**, highlighting the key markets.\n",
    "- Peak transaction volumes happen during **9 AM to 6 PM**, suggesting optimal staffing and promotional timing for merchants.\n",
    "- Transaction amounts mostly fall within a **low to moderate range**, with some outliers potentially indicating fraud or high-value sales.\n",
    "- **Chip-based cards** are widely used, showing adoption of secure payment technologies.\n",
    "\n",
    "**Recommendations**:\n",
    "- Target marketing and promotions towards the top merchant categories to maximize impact.\n",
    "- Focus merchant support and resources in high-transaction urban centers.\n",
    "- Optimize staffing and customer engagement during peak transaction hours.\n",
    "- Implement fraud detection measures focused on outlier transactions.\n",
    "- Promote chip card adoption among merchants and customers for enhanced security.\n"
   ]
  },
  {
   "cell_type": "markdown",
   "id": "7f7a3037",
   "metadata": {},
   "source": [
    "## ✅ Conclusion\n",
    "\n",
    "This analysis provided valuable insights into customer spending patterns, merchant activity, and transaction timing.\n",
    "\n",
    "By understanding these trends, businesses can make **data-driven decisions** to enhance marketing strategies, optimize operations, and improve fraud detection.\n",
    "\n",
    "This project highlights the power of exploratory data analysis in unlocking actionable business intelligence from transaction data.\n",
    "\n",
    "---\n"
   ]
  }
 ],
 "metadata": {},
 "nbformat": 4,
 "nbformat_minor": 5
}
